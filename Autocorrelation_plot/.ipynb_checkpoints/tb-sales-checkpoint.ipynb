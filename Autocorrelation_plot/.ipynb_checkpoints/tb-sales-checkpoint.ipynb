{
 "cells": [
  {
   "cell_type": "markdown",
   "metadata": {},
   "source": [
    "# Partial autocorrelation function\n",
    "\n",
    "Ucadity Course: https://classroom.udacity.com/courses/ud980/lessons/ff6cb612-1832-4254-8a87-b4defef8dd58/concepts/ed1b9125-13f5-4011-a62c-6bbb8f6bff9c\n"
   ]
  },
  {
   "cell_type": "markdown",
   "metadata": {},
   "source": [
    "## 1. Understanding the Problem Statement and Dataset\n",
    "Our data is in a file calld tb-sales.csv in 'input' directory. We have to take a look at where we can find the ACF and PACF plots."
   ]
  },
  {
   "cell_type": "markdown",
   "metadata": {},
   "source": [
    "## 2. Autocorrelation funcion plot (ACF)\n",
    "A plot of the autocorrelation of a time series by lag is called the AutoCorrelation Function, or the acronym ACF. This plot is sometimes called a correlogram or an autocorrelation plot.\n",
    "Bellow there is a plot of the toothbrush sales ACF."
   ]
  },
  {
   "cell_type": "code",
   "execution_count": 24,
   "metadata": {},
   "outputs": [
    {
     "name": "stderr",
     "output_type": "stream",
     "text": [
      "/home/emi/anaconda3/lib/python3.6/site-packages/pandas/core/series.py:2890: FutureWarning: from_csv is deprecated. Please use read_csv(...) instead. Note that some of the default arguments are different, so please refer to the documentation for from_csv when changing your function calls\n",
      "  infer_datetime_format=infer_datetime_format)\n",
      "/home/emi/anaconda3/lib/python3.6/site-packages/matplotlib/cbook/deprecation.py:107: MatplotlibDeprecationWarning: Passing one of 'on', 'true', 'off', 'false' as a boolean is deprecated; use an actual boolean (True/False) instead.\n",
      "  warnings.warn(message, mplDeprecation, stacklevel=1)\n"
     ]
    },
    {
     "data": {
      "image/png": "[encoded data removed]",
      "text/plain": [
       "<Figure size 432x288 with 1 Axes>"
      ]
     },
     "metadata": {},
     "output_type": "display_data"
    }
   ],
   "source": [
    "from pandas import Series\n",
    "from matplotlib import pyplot\n",
    "from statsmodels.graphics.tsaplots import plot_acf\n",
    "series = Series.from_csv('input/tb-sales.csv', header=0)\n",
    "\n",
    "plot_acf(series, lags=30)\n",
    "plt.grid(\"on\")\n",
    "pyplot.show()"
   ]
  },
  {
   "cell_type": "markdown",
   "metadata": {},
   "source": [
    "## 3. Partial Autocorrelation Function (ACF)\n",
    "A partial autocorrelation is a summary of the relationship between an observation in a time series with observations at prior time steps with the relationships of intervening observations removed."
   ]
  },
  {
   "cell_type": "code",
   "execution_count": 19,
   "metadata": {},
   "outputs": [
    {
     "name": "stderr",
     "output_type": "stream",
     "text": [
      "/home/emi/anaconda3/lib/python3.6/site-packages/pandas/core/series.py:2890: FutureWarning: from_csv is deprecated. Please use read_csv(...) instead. Note that some of the default arguments are different, so please refer to the documentation for from_csv when changing your function calls\n",
      "  infer_datetime_format=infer_datetime_format)\n"
     ]
    },
    {
     "data": {
      "image/png": "[encoded data removed]",
      "text/plain": [
       "<Figure size 432x288 with 1 Axes>"
      ]
     },
     "metadata": {},
     "output_type": "display_data"
    }
   ],
   "source": [
    "from pandas import Series\n",
    "from matplotlib import pyplot\n",
    "from statsmodels.graphics.tsaplots import plot_pacf\n",
    "series = Series.from_csv('input/tb-sales.csv', header=0)\n",
    "plot_pacf(series, lags=30)\n",
    "pyplot.show()"
   ]
  },
  {
   "cell_type": "markdown",
   "metadata": {},
   "source": [
    "Inspecting the PACF will suggest how many AR terms you need to use  to explain the article  relation pattern in a time series. In this case we'll use 2 terms."
   ]
  },
  {
   "cell_type": "code",
   "execution_count": 32,
   "metadata": {},
   "outputs": [
    {
     "name": "stdout",
     "output_type": "stream",
     "text": [
      "DATE\n",
      "2009-01-01    7523.6215\n",
      "2009-02-01    7551.0275\n",
      "2009-03-01    7543.5725\n",
      "2009-04-01    7551.1695\n",
      "2009-05-01    7562.2810\n",
      "2009-06-01    7625.0450\n",
      "2009-07-01    7622.7730\n",
      "2009-08-01    7648.2975\n",
      "2009-09-01    7663.0655\n",
      "2009-10-01    7686.0695\n",
      "2009-11-01    7711.8070\n",
      "2009-12-01    7715.8185\n",
      "2010-01-01    7720.8240\n",
      "2010-02-01    7713.4755\n",
      "2010-03-01    7716.0315\n",
      "2010-04-01    7717.8065\n",
      "2010-05-01    7713.7950\n",
      "2010-06-01    7710.5645\n",
      "2010-07-01    7724.9775\n",
      "2010-08-01    7736.2665\n",
      "2010-09-01    7748.7625\n",
      "2010-10-01    7775.7425\n",
      "2010-11-01    7795.4450\n",
      "2010-12-01    7826.7560\n",
      "2011-01-01    7852.1385\n",
      "2011-02-01    7877.3790\n",
      "2011-03-01    7918.1330\n",
      "2011-04-01    7955.3015\n",
      "2011-05-01    7980.6130\n",
      "2011-06-01    7980.6130\n",
      "                ...    \n",
      "2014-01-01    8357.9780\n",
      "2014-02-01    8364.5455\n",
      "2014-03-01    8374.3435\n",
      "2014-04-01    8395.5725\n",
      "2014-05-01    8406.5065\n",
      "2014-06-01    8414.0680\n",
      "2014-07-01    8422.6945\n",
      "2014-08-01    8419.2865\n",
      "2014-09-01    8431.6050\n",
      "2014-10-01    8436.6105\n",
      "2014-11-01    8422.7655\n",
      "2014-12-01    8394.4720\n",
      "2015-01-01    8340.8670\n",
      "2015-02-01    8357.2325\n",
      "2015-03-01    8372.9945\n",
      "2015-04-01    8384.9935\n",
      "2015-05-01    8409.0980\n",
      "2015-06-01    8428.5165\n",
      "2015-07-01    8439.5570\n",
      "2015-08-01    8438.4565\n",
      "2015-09-01    8430.8595\n",
      "2015-10-01    8447.1895\n",
      "2015-11-01    8459.7210\n",
      "2015-12-01    8450.4555\n",
      "2016-01-01    8452.7985\n",
      "2016-02-01    8438.5985\n",
      "2016-03-01    8446.1600\n",
      "2016-04-01    8480.5950\n",
      "2016-05-01    8499.0550\n",
      "2016-06-01    8517.4085\n",
      "Name: Toothbrush Sales, Length: 90, dtype: float64\n"
     ]
    },
    {
     "ename": "AttributeError",
     "evalue": "'Series' object has no attribute 'DATE'",
     "output_type": "error",
     "traceback": [
      "\u001b[0;31m---------------------------------------------------------------------------\u001b[0m",
      "\u001b[0;31mAttributeError\u001b[0m                            Traceback (most recent call last)",
      "\u001b[0;32m<ipython-input-32-5810eeb41a4c>\u001b[0m in \u001b[0;36m<module>\u001b[0;34m()\u001b[0m\n\u001b[1;32m      1\u001b[0m \u001b[0mprint\u001b[0m\u001b[0;34m(\u001b[0m\u001b[0mseries\u001b[0m\u001b[0;34m)\u001b[0m\u001b[0;34m\u001b[0m\u001b[0m\n\u001b[0;32m----> 2\u001b[0;31m \u001b[0mseries\u001b[0m\u001b[0;34m.\u001b[0m\u001b[0mgroupby\u001b[0m\u001b[0;34m(\u001b[0m\u001b[0mseries\u001b[0m\u001b[0;34m.\u001b[0m\u001b[0mDATE\u001b[0m\u001b[0;34m.\u001b[0m\u001b[0mdt\u001b[0m\u001b[0;34m.\u001b[0m\u001b[0mmonth\u001b[0m\u001b[0;34m)\u001b[0m\u001b[0;34m\u001b[0m\u001b[0m\n\u001b[0m",
      "\u001b[0;32m~/anaconda3/lib/python3.6/site-packages/pandas/core/generic.py\u001b[0m in \u001b[0;36m__getattr__\u001b[0;34m(self, name)\u001b[0m\n\u001b[1;32m   3612\u001b[0m             \u001b[0;32mif\u001b[0m \u001b[0mname\u001b[0m \u001b[0;32min\u001b[0m \u001b[0mself\u001b[0m\u001b[0;34m.\u001b[0m\u001b[0m_info_axis\u001b[0m\u001b[0;34m:\u001b[0m\u001b[0;34m\u001b[0m\u001b[0m\n\u001b[1;32m   3613\u001b[0m                 \u001b[0;32mreturn\u001b[0m \u001b[0mself\u001b[0m\u001b[0;34m[\u001b[0m\u001b[0mname\u001b[0m\u001b[0;34m]\u001b[0m\u001b[0;34m\u001b[0m\u001b[0m\n\u001b[0;32m-> 3614\u001b[0;31m             \u001b[0;32mreturn\u001b[0m \u001b[0mobject\u001b[0m\u001b[0;34m.\u001b[0m\u001b[0m__getattribute__\u001b[0m\u001b[0;34m(\u001b[0m\u001b[0mself\u001b[0m\u001b[0;34m,\u001b[0m \u001b[0mname\u001b[0m\u001b[0;34m)\u001b[0m\u001b[0;34m\u001b[0m\u001b[0m\n\u001b[0m\u001b[1;32m   3615\u001b[0m \u001b[0;34m\u001b[0m\u001b[0m\n\u001b[1;32m   3616\u001b[0m     \u001b[0;32mdef\u001b[0m \u001b[0m__setattr__\u001b[0m\u001b[0;34m(\u001b[0m\u001b[0mself\u001b[0m\u001b[0;34m,\u001b[0m \u001b[0mname\u001b[0m\u001b[0;34m,\u001b[0m \u001b[0mvalue\u001b[0m\u001b[0;34m)\u001b[0m\u001b[0;34m:\u001b[0m\u001b[0;34m\u001b[0m\u001b[0m\n",
      "\u001b[0;31mAttributeError\u001b[0m: 'Series' object has no attribute 'DATE'"
     ]
    }
   ],
   "source": []
  },
  {
   "cell_type": "code",
   "execution_count": null,
   "metadata": {},
   "outputs": [],
   "source": []
  }
 ],
 "metadata": {
  "kernelspec": {
   "display_name": "Python 3",
   "language": "python",
   "name": "python3"
  },
  "language_info": {
   "codemirror_mode": {
    "name": "ipython",
    "version": 3
   },
   "file_extension": ".py",
   "mimetype": "text/x-python",
   "name": "python",
   "nbconvert_exporter": "python",
   "pygments_lexer": "ipython3",
   "version": "3.6.4"
  }
 },
 "nbformat": 4,
 "nbformat_minor": 2
}
